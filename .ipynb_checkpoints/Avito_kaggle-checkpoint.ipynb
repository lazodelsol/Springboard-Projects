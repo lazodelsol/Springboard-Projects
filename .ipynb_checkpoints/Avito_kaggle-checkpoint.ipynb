{
 "cells": [
  {
   "cell_type": "code",
   "execution_count": 1,
   "metadata": {},
   "outputs": [],
   "source": [
    "from fastai.imports import *\n",
    "from fastai.structured import *\n",
    "\n",
    "import pandas as pd\n",
    "from sklearn.ensemble import RandomForestRegressor\n",
    "from sklearn import metrics\n",
    "import seaborn as sns\n",
    "import fastai\n",
    "%matplotlib inline"
   ]
  },
  {
   "cell_type": "code",
   "execution_count": 2,
   "metadata": {},
   "outputs": [],
   "source": [
    "avi_df_raw = pd.read_csv(\"/Users/ram/Desktop/take_II/fastai-master/courses/ml1/data/Avito_kaggle/train.csv\",parse_dates = [\"activation_date\"])"
   ]
  },
  {
   "cell_type": "code",
   "execution_count": null,
   "metadata": {},
   "outputs": [],
   "source": [
    "#%cd /Users/ram/Desktop/take_II/fastai-master/courses/ml1/data/Avito_kaggle/train.csv\n",
    "#%cd Avito_kaggle/"
   ]
  },
  {
   "cell_type": "code",
   "execution_count": 3,
   "metadata": {},
   "outputs": [
    {
     "name": "stdout",
     "output_type": "stream",
     "text": [
      "(1503424, 18)\n",
      "                                                                      0  \\\n",
      "item_id                                                    b912c3c6a6ad   \n",
      "user_id                                                    e00f8ff2eaf9   \n",
      "region                                             Свердловская область   \n",
      "city                                                       Екатеринбург   \n",
      "parent_category_name                                        Личные вещи   \n",
      "category_name                                Товары для детей и игрушки   \n",
      "param_1                                       Постельные принадлежности   \n",
      "param_2                                                             NaN   \n",
      "param_3                                                             NaN   \n",
      "title                                             Кокоби(кокон для сна)   \n",
      "description           Кокон для сна малыша,пользовались меньше месяц...   \n",
      "price                                                               400   \n",
      "item_seq_number                                                       2   \n",
      "activation_date                                     2017-03-28 00:00:00   \n",
      "user_type                                                       Private   \n",
      "image                 d10c7e016e03247a3bf2d13348fe959fe6f436c1caf64c...   \n",
      "image_top_1                                                        1008   \n",
      "deal_probability                                                0.12789   \n",
      "\n",
      "                                                                      1  \n",
      "item_id                                                    2dac0150717d  \n",
      "user_id                                                    39aeb48f0017  \n",
      "region                                                Самарская область  \n",
      "city                                                             Самара  \n",
      "parent_category_name                                    Для дома и дачи  \n",
      "category_name                                         Мебель и интерьер  \n",
      "param_1                                                          Другое  \n",
      "param_2                                                             NaN  \n",
      "param_3                                                             NaN  \n",
      "title                                                 Стойка для Одежды  \n",
      "description                   Стойка для одежды, под вешалки. С бутика.  \n",
      "price                                                              3000  \n",
      "item_seq_number                                                      19  \n",
      "activation_date                                     2017-03-26 00:00:00  \n",
      "user_type                                                       Private  \n",
      "image                 79c9392cc51a9c81c6eb91eceb8e552171db39d7142700...  \n",
      "image_top_1                                                         692  \n",
      "deal_probability                                                      0  \n"
     ]
    }
   ],
   "source": [
    "print(avi_df_raw.shape)\n",
    "print(avi_df_raw.head(2).T)"
   ]
  },
  {
   "cell_type": "code",
   "execution_count": 4,
   "metadata": {},
   "outputs": [
    {
     "data": {
      "text/plain": [
       "Index(['item_id', 'user_id', 'region', 'city', 'parent_category_name',\n",
       "       'category_name', 'param_1', 'param_2', 'param_3', 'title',\n",
       "       'description', 'price', 'item_seq_number', 'activation_date',\n",
       "       'user_type', 'image', 'image_top_1', 'deal_probability'],\n",
       "      dtype='object')"
      ]
     },
     "execution_count": 4,
     "metadata": {},
     "output_type": "execute_result"
    }
   ],
   "source": [
    "avi_df_raw.columns"
   ]
  },
  {
   "cell_type": "code",
   "execution_count": 5,
   "metadata": {},
   "outputs": [],
   "source": [
    "fastai.structured.add_datepart(avi_df_raw,'activation_date')"
   ]
  },
  {
   "cell_type": "code",
   "execution_count": 7,
   "metadata": {},
   "outputs": [
    {
     "name": "stdout",
     "output_type": "stream",
     "text": [
      "(1503424, 30)\n"
     ]
    },
    {
     "data": {
      "text/html": [
       "<div>\n",
       "<style scoped>\n",
       "    .dataframe tbody tr th:only-of-type {\n",
       "        vertical-align: middle;\n",
       "    }\n",
       "\n",
       "    .dataframe tbody tr th {\n",
       "        vertical-align: top;\n",
       "    }\n",
       "\n",
       "    .dataframe thead th {\n",
       "        text-align: right;\n",
       "    }\n",
       "</style>\n",
       "<table border=\"1\" class=\"dataframe\">\n",
       "  <thead>\n",
       "    <tr style=\"text-align: right;\">\n",
       "      <th></th>\n",
       "      <th>0</th>\n",
       "      <th>1</th>\n",
       "    </tr>\n",
       "  </thead>\n",
       "  <tbody>\n",
       "    <tr>\n",
       "      <th>item_id</th>\n",
       "      <td>b912c3c6a6ad</td>\n",
       "      <td>2dac0150717d</td>\n",
       "    </tr>\n",
       "    <tr>\n",
       "      <th>user_id</th>\n",
       "      <td>e00f8ff2eaf9</td>\n",
       "      <td>39aeb48f0017</td>\n",
       "    </tr>\n",
       "    <tr>\n",
       "      <th>region</th>\n",
       "      <td>Свердловская область</td>\n",
       "      <td>Самарская область</td>\n",
       "    </tr>\n",
       "    <tr>\n",
       "      <th>city</th>\n",
       "      <td>Екатеринбург</td>\n",
       "      <td>Самара</td>\n",
       "    </tr>\n",
       "    <tr>\n",
       "      <th>parent_category_name</th>\n",
       "      <td>Личные вещи</td>\n",
       "      <td>Для дома и дачи</td>\n",
       "    </tr>\n",
       "    <tr>\n",
       "      <th>category_name</th>\n",
       "      <td>Товары для детей и игрушки</td>\n",
       "      <td>Мебель и интерьер</td>\n",
       "    </tr>\n",
       "    <tr>\n",
       "      <th>param_1</th>\n",
       "      <td>Постельные принадлежности</td>\n",
       "      <td>Другое</td>\n",
       "    </tr>\n",
       "    <tr>\n",
       "      <th>param_2</th>\n",
       "      <td>NaN</td>\n",
       "      <td>NaN</td>\n",
       "    </tr>\n",
       "    <tr>\n",
       "      <th>param_3</th>\n",
       "      <td>NaN</td>\n",
       "      <td>NaN</td>\n",
       "    </tr>\n",
       "    <tr>\n",
       "      <th>title</th>\n",
       "      <td>Кокоби(кокон для сна)</td>\n",
       "      <td>Стойка для Одежды</td>\n",
       "    </tr>\n",
       "    <tr>\n",
       "      <th>description</th>\n",
       "      <td>Кокон для сна малыша,пользовались меньше месяц...</td>\n",
       "      <td>Стойка для одежды, под вешалки. С бутика.</td>\n",
       "    </tr>\n",
       "    <tr>\n",
       "      <th>price</th>\n",
       "      <td>400</td>\n",
       "      <td>3000</td>\n",
       "    </tr>\n",
       "    <tr>\n",
       "      <th>item_seq_number</th>\n",
       "      <td>2</td>\n",
       "      <td>19</td>\n",
       "    </tr>\n",
       "    <tr>\n",
       "      <th>user_type</th>\n",
       "      <td>Private</td>\n",
       "      <td>Private</td>\n",
       "    </tr>\n",
       "    <tr>\n",
       "      <th>image</th>\n",
       "      <td>d10c7e016e03247a3bf2d13348fe959fe6f436c1caf64c...</td>\n",
       "      <td>79c9392cc51a9c81c6eb91eceb8e552171db39d7142700...</td>\n",
       "    </tr>\n",
       "    <tr>\n",
       "      <th>image_top_1</th>\n",
       "      <td>1008</td>\n",
       "      <td>692</td>\n",
       "    </tr>\n",
       "    <tr>\n",
       "      <th>deal_probability</th>\n",
       "      <td>0.12789</td>\n",
       "      <td>0</td>\n",
       "    </tr>\n",
       "    <tr>\n",
       "      <th>activation_Year</th>\n",
       "      <td>2017</td>\n",
       "      <td>2017</td>\n",
       "    </tr>\n",
       "    <tr>\n",
       "      <th>activation_Month</th>\n",
       "      <td>3</td>\n",
       "      <td>3</td>\n",
       "    </tr>\n",
       "    <tr>\n",
       "      <th>activation_Week</th>\n",
       "      <td>13</td>\n",
       "      <td>12</td>\n",
       "    </tr>\n",
       "    <tr>\n",
       "      <th>activation_Day</th>\n",
       "      <td>28</td>\n",
       "      <td>26</td>\n",
       "    </tr>\n",
       "    <tr>\n",
       "      <th>activation_Dayofweek</th>\n",
       "      <td>1</td>\n",
       "      <td>6</td>\n",
       "    </tr>\n",
       "    <tr>\n",
       "      <th>activation_Dayofyear</th>\n",
       "      <td>87</td>\n",
       "      <td>85</td>\n",
       "    </tr>\n",
       "    <tr>\n",
       "      <th>activation_Is_month_end</th>\n",
       "      <td>False</td>\n",
       "      <td>False</td>\n",
       "    </tr>\n",
       "    <tr>\n",
       "      <th>activation_Is_month_start</th>\n",
       "      <td>False</td>\n",
       "      <td>False</td>\n",
       "    </tr>\n",
       "    <tr>\n",
       "      <th>activation_Is_quarter_end</th>\n",
       "      <td>False</td>\n",
       "      <td>False</td>\n",
       "    </tr>\n",
       "    <tr>\n",
       "      <th>activation_Is_quarter_start</th>\n",
       "      <td>False</td>\n",
       "      <td>False</td>\n",
       "    </tr>\n",
       "    <tr>\n",
       "      <th>activation_Is_year_end</th>\n",
       "      <td>False</td>\n",
       "      <td>False</td>\n",
       "    </tr>\n",
       "    <tr>\n",
       "      <th>activation_Is_year_start</th>\n",
       "      <td>False</td>\n",
       "      <td>False</td>\n",
       "    </tr>\n",
       "    <tr>\n",
       "      <th>activation_Elapsed</th>\n",
       "      <td>1490659200</td>\n",
       "      <td>1490486400</td>\n",
       "    </tr>\n",
       "  </tbody>\n",
       "</table>\n",
       "</div>"
      ],
      "text/plain": [
       "                                                                             0  \\\n",
       "item_id                                                           b912c3c6a6ad   \n",
       "user_id                                                           e00f8ff2eaf9   \n",
       "region                                                    Свердловская область   \n",
       "city                                                              Екатеринбург   \n",
       "parent_category_name                                               Личные вещи   \n",
       "category_name                                       Товары для детей и игрушки   \n",
       "param_1                                              Постельные принадлежности   \n",
       "param_2                                                                    NaN   \n",
       "param_3                                                                    NaN   \n",
       "title                                                    Кокоби(кокон для сна)   \n",
       "description                  Кокон для сна малыша,пользовались меньше месяц...   \n",
       "price                                                                      400   \n",
       "item_seq_number                                                              2   \n",
       "user_type                                                              Private   \n",
       "image                        d10c7e016e03247a3bf2d13348fe959fe6f436c1caf64c...   \n",
       "image_top_1                                                               1008   \n",
       "deal_probability                                                       0.12789   \n",
       "activation_Year                                                           2017   \n",
       "activation_Month                                                             3   \n",
       "activation_Week                                                             13   \n",
       "activation_Day                                                              28   \n",
       "activation_Dayofweek                                                         1   \n",
       "activation_Dayofyear                                                        87   \n",
       "activation_Is_month_end                                                  False   \n",
       "activation_Is_month_start                                                False   \n",
       "activation_Is_quarter_end                                                False   \n",
       "activation_Is_quarter_start                                              False   \n",
       "activation_Is_year_end                                                   False   \n",
       "activation_Is_year_start                                                 False   \n",
       "activation_Elapsed                                                  1490659200   \n",
       "\n",
       "                                                                             1  \n",
       "item_id                                                           2dac0150717d  \n",
       "user_id                                                           39aeb48f0017  \n",
       "region                                                       Самарская область  \n",
       "city                                                                    Самара  \n",
       "parent_category_name                                           Для дома и дачи  \n",
       "category_name                                                Мебель и интерьер  \n",
       "param_1                                                                 Другое  \n",
       "param_2                                                                    NaN  \n",
       "param_3                                                                    NaN  \n",
       "title                                                        Стойка для Одежды  \n",
       "description                          Стойка для одежды, под вешалки. С бутика.  \n",
       "price                                                                     3000  \n",
       "item_seq_number                                                             19  \n",
       "user_type                                                              Private  \n",
       "image                        79c9392cc51a9c81c6eb91eceb8e552171db39d7142700...  \n",
       "image_top_1                                                                692  \n",
       "deal_probability                                                             0  \n",
       "activation_Year                                                           2017  \n",
       "activation_Month                                                             3  \n",
       "activation_Week                                                             12  \n",
       "activation_Day                                                              26  \n",
       "activation_Dayofweek                                                         6  \n",
       "activation_Dayofyear                                                        85  \n",
       "activation_Is_month_end                                                  False  \n",
       "activation_Is_month_start                                                False  \n",
       "activation_Is_quarter_end                                                False  \n",
       "activation_Is_quarter_start                                              False  \n",
       "activation_Is_year_end                                                   False  \n",
       "activation_Is_year_start                                                 False  \n",
       "activation_Elapsed                                                  1490486400  "
      ]
     },
     "execution_count": 7,
     "metadata": {},
     "output_type": "execute_result"
    }
   ],
   "source": [
    "print(avi_df_raw.shape)\n",
    "avi_df_raw.head(2).T"
   ]
  },
  {
   "cell_type": "code",
   "execution_count": 8,
   "metadata": {},
   "outputs": [],
   "source": [
    "fastai.structured.train_cats(avi_df_raw)"
   ]
  },
  {
   "cell_type": "code",
   "execution_count": null,
   "metadata": {},
   "outputs": [],
   "source": [
    "avi_df_raw.isnull().sum().sort_index()/len(avi_df_raw)"
   ]
  },
  {
   "cell_type": "markdown",
   "metadata": {},
   "source": [
    "# My little experiments follow"
   ]
  },
  {
   "cell_type": "code",
   "execution_count": 10,
   "metadata": {},
   "outputs": [],
   "source": [
    "#Define a function to split dataframe as required into train and valid or test sets\n",
    "def split_df(df,num):\n",
    "    return df[ :num].copy(),df[num: ].copy()\n"
   ]
  },
  {
   "cell_type": "code",
   "execution_count": 12,
   "metadata": {},
   "outputs": [],
   "source": [
    "??proc_df"
   ]
  },
  {
   "cell_type": "code",
   "execution_count": 56,
   "metadata": {},
   "outputs": [],
   "source": [
    "#Use proc_df to get a smaller sample of the whole data, then use split_df to play with it.\n",
    "#underscore 1 means we are not dropping any columns\n",
    "#sub_dfx_1,sub_dfy_1,sub_nas = proc_df(avi_df_raw,'deal_probability',subset = 200000)\n",
    "sub_dfx_2,sub_dfy_2,sub_nas_2 = proc_df(avi_df_raw,'deal_probability',subset = 200000,\n",
    "                                        skip_flds = [\"image\"])"
   ]
  },
  {
   "cell_type": "code",
   "execution_count": 57,
   "metadata": {},
   "outputs": [
    {
     "name": "stdout",
     "output_type": "stream",
     "text": [
      "(200000, 30) (200000,)\n"
     ]
    }
   ],
   "source": [
    "#print(sub_dfx_1.shape,sub_dfy_1.shape)\n",
    "print(sub_dfx_2.shape,sub_dfy_2.shape)"
   ]
  },
  {
   "cell_type": "code",
   "execution_count": 58,
   "metadata": {},
   "outputs": [],
   "source": [
    "#Use split_df to get a train set and validation set. Get both x and y. I also plan to use OOB score\n",
    "#sub_trn_x_1,sub_val_x_1 = split_df(sub_dfx_1,150000)\n",
    "#sub_trn_y_1,sub_val_y_1 = split_df(sub_dfy_1,150000)\n",
    "sub_trn_x_2,sub_val_x_2 = split_df(sub_dfx_2,150000)\n",
    "sub_trn_y_2,sub_val_y_2 = split_df(sub_dfy_2,150000)"
   ]
  },
  {
   "cell_type": "code",
   "execution_count": 59,
   "metadata": {},
   "outputs": [
    {
     "name": "stdout",
     "output_type": "stream",
     "text": [
      "(150000, 30) (50000, 30) (150000,) (50000,)\n"
     ]
    }
   ],
   "source": [
    "print(sub_trn_x_2.shape,sub_val_x_2.shape,sub_trn_y_2.shape,sub_val_y_2.shape)"
   ]
  },
  {
   "cell_type": "code",
   "execution_count": 116,
   "metadata": {},
   "outputs": [],
   "source": [
    "#my_model = RandomForestRegressor(n_jobs = -1,oob_score = False,n_estimators = 10)\n",
    "my_model_2 = RandomForestRegressor(n_jobs = -1,oob_score = False,n_estimators = 50,\n",
    "                                   max_depth = 40000,min_samples_leaf = 25)"
   ]
  },
  {
   "cell_type": "code",
   "execution_count": 117,
   "metadata": {},
   "outputs": [
    {
     "data": {
      "text/plain": [
       "RandomForestRegressor(bootstrap=True, criterion='mse', max_depth=40000,\n",
       "           max_features='auto', max_leaf_nodes=None,\n",
       "           min_impurity_decrease=0.0, min_impurity_split=None,\n",
       "           min_samples_leaf=25, min_samples_split=2,\n",
       "           min_weight_fraction_leaf=0.0, n_estimators=50, n_jobs=-1,\n",
       "           oob_score=False, random_state=None, verbose=0, warm_start=False)"
      ]
     },
     "execution_count": 117,
     "metadata": {},
     "output_type": "execute_result"
    }
   ],
   "source": [
    "#my_model.fit(sub_trn_x_1,sub_trn_y_1)\n",
    "my_model_2.fit(sub_trn_x_2,sub_trn_y_2)"
   ]
  },
  {
   "cell_type": "code",
   "execution_count": 86,
   "metadata": {},
   "outputs": [
    {
     "data": {
      "text/plain": [
       "0.20145601224376086"
      ]
     },
     "execution_count": 86,
     "metadata": {},
     "output_type": "execute_result"
    }
   ],
   "source": [
    "#my_model.score(sub_val_x_1,sub_val_y_1)\n",
    "my_model_2.score(sub_val_x_2,sub_val_y_2)"
   ]
  },
  {
   "cell_type": "code",
   "execution_count": 53,
   "metadata": {},
   "outputs": [],
   "source": [
    "#Need a function that outputs (1) train and test set r squared vals, (2) train and test set\n",
    "# rmse's. Define rmse function first\n",
    "def my_rmse(y1,y2):\n",
    "    return np.sqrt(((y1-y2)**2).mean())\n",
    "\n",
    "def rsq_n_rmse(my_model,x_train,y_train,x_val,y_val):\n",
    "    resul = [my_model.score(x_train,y_train),my_model.score(x_val,y_val),\n",
    "             my_rmse(my_model.predict(x_train),y_train),my_rmse(my_model.predict(x_val),y_val)]\n",
    "    return \"train rsq,val rsq,train rmse, val rmse\", resul\n"
   ]
  },
  {
   "cell_type": "code",
   "execution_count": 37,
   "metadata": {},
   "outputs": [
    {
     "data": {
      "text/html": [
       "<div>\n",
       "<style scoped>\n",
       "    .dataframe tbody tr th:only-of-type {\n",
       "        vertical-align: middle;\n",
       "    }\n",
       "\n",
       "    .dataframe tbody tr th {\n",
       "        vertical-align: top;\n",
       "    }\n",
       "\n",
       "    .dataframe thead th {\n",
       "        text-align: right;\n",
       "    }\n",
       "</style>\n",
       "<table border=\"1\" class=\"dataframe\">\n",
       "  <thead>\n",
       "    <tr style=\"text-align: right;\">\n",
       "      <th></th>\n",
       "      <th>Y</th>\n",
       "      <th>Y_PREDS</th>\n",
       "    </tr>\n",
       "  </thead>\n",
       "  <tbody>\n",
       "    <tr>\n",
       "      <th>0</th>\n",
       "      <td>2</td>\n",
       "      <td>4</td>\n",
       "    </tr>\n",
       "    <tr>\n",
       "      <th>1</th>\n",
       "      <td>3</td>\n",
       "      <td>5</td>\n",
       "    </tr>\n",
       "    <tr>\n",
       "      <th>2</th>\n",
       "      <td>4</td>\n",
       "      <td>7</td>\n",
       "    </tr>\n",
       "  </tbody>\n",
       "</table>\n",
       "</div>"
      ],
      "text/plain": [
       "   Y  Y_PREDS\n",
       "0  2        4\n",
       "1  3        5\n",
       "2  4        7"
      ]
     },
     "execution_count": 37,
     "metadata": {},
     "output_type": "execute_result"
    }
   ],
   "source": [
    "#Test our rmse with a known set of data I created in excel. Expected rmse is 2.38\n",
    "ys = [2,3,4]\n",
    "ypreds = [4,5,7]\n",
    "df_test = pd.DataFrame({\"Y\":ys,\"Y_PREDS\":ypreds})\n",
    "df_test.head()"
   ]
  },
  {
   "cell_type": "code",
   "execution_count": 40,
   "metadata": {},
   "outputs": [
    {
     "data": {
      "text/plain": [
       "2.3804761428476167"
      ]
     },
     "execution_count": 40,
     "metadata": {},
     "output_type": "execute_result"
    }
   ],
   "source": [
    "#Still testing\n",
    "test_rmse = my_rmse(df_test[\"Y\"],df_test[\"Y_PREDS\"])\n",
    "test_rmse"
   ]
  },
  {
   "cell_type": "code",
   "execution_count": 118,
   "metadata": {},
   "outputs": [
    {
     "data": {
      "text/plain": [
       "('train rsq,val rsq,train rmse, val rmse',\n",
       " [0.3471049543567214,\n",
       "  0.21123692296929797,\n",
       "  0.20944755650228297,\n",
       "  0.2323611449050482])"
      ]
     },
     "execution_count": 118,
     "metadata": {},
     "output_type": "execute_result"
    }
   ],
   "source": [
    "#test out rsq_n_rmse function\n",
    "rsq_n_rmse(my_model_2,sub_trn_x_2,sub_trn_y_2,sub_val_x_2,sub_val_y_2)"
   ]
  },
  {
   "cell_type": "code",
   "execution_count": 119,
   "metadata": {},
   "outputs": [],
   "source": [
    "#before trying out the next experiment, make sure you read in the test dataset, and use \n",
    "#the same size of test as validation. For example using split df or other subsampling.\n",
    "#Grid search will need ot use OOB score, figure that out. Also, we plain forgot if dates were \n",
    "#sorted or not? No way to tell now. So, do this again.\n",
    "\n",
    "avito_test_raw = pd.read_csv(\"/Users/ram/Desktop/take_II/fastai-master/courses/ml1/data/Avito_kaggle/test.csv\",parse_dates = [\"activation_date\"])"
   ]
  },
  {
   "cell_type": "code",
   "execution_count": 120,
   "metadata": {},
   "outputs": [
    {
     "data": {
      "text/plain": [
       "(508438, 17)"
      ]
     },
     "execution_count": 120,
     "metadata": {},
     "output_type": "execute_result"
    }
   ],
   "source": [
    "avito_test_raw.shape"
   ]
  },
  {
   "cell_type": "code",
   "execution_count": 121,
   "metadata": {},
   "outputs": [],
   "source": [
    "#We are going to use random subsampling : train using a set of smaller subsamples, but\n",
    "#test on a validation dataset that is approximatel same size as Kaggle test set. We could have\n",
    "#used maintained the same proportion train:test, but this is conservative and better?\n",
    "#Let's try random subsampling first using set_rf_samples\n",
    "# Bring the full df again\n",
    "\n",
    "full_dfx,full_dfy,full_nas = proc_df(avi_df_raw,'deal_probability',skip_flds = [\"image\"])"
   ]
  },
  {
   "cell_type": "code",
   "execution_count": 122,
   "metadata": {},
   "outputs": [
    {
     "name": "stdout",
     "output_type": "stream",
     "text": [
      "(1503424, 30) (1503424,)\n"
     ]
    }
   ],
   "source": [
    "print(full_dfx.shape,full_dfy.shape)"
   ]
  },
  {
   "cell_type": "code",
   "execution_count": 138,
   "metadata": {},
   "outputs": [],
   "source": [
    "#Preserve Kaggle actual test set size in the validation set. But this will require too large\n",
    "#a training set (which should be at least bigger than test set). So choose a smaller set\n",
    "#use 80000 training set subsamples and 75000 row validation set\n",
    "n_trn = len(full_dfx) - 75000\n",
    "train_X,valid_X = split_df(full_dfx,n_trn)\n",
    "train_Y,valid_Y = split_df(full_dfy,n_trn)\n"
   ]
  },
  {
   "cell_type": "code",
   "execution_count": 139,
   "metadata": {},
   "outputs": [
    {
     "name": "stdout",
     "output_type": "stream",
     "text": [
      "(1428424, 30) (75000, 30)\n"
     ]
    }
   ],
   "source": [
    "print(train_X.shape,valid_X.shape)"
   ]
  },
  {
   "cell_type": "code",
   "execution_count": 140,
   "metadata": {},
   "outputs": [],
   "source": [
    "#We are only ever going to use subsamples of 120000 from train set of 1403424\n",
    "#Looks like the above is not feasible, taking too much time Less samples\n",
    "set_rf_samples(80000)"
   ]
  },
  {
   "cell_type": "code",
   "execution_count": 170,
   "metadata": {},
   "outputs": [
    {
     "name": "stdout",
     "output_type": "stream",
     "text": [
      "CPU times: user 53.7 s, sys: 1.21 s, total: 55 s\n",
      "Wall time: 56.3 s\n"
     ]
    }
   ],
   "source": [
    "%%time\n",
    "#new_mod = RandomForestRegressor(n_estimators = 50,n_jobs = 1,\n",
    "                                #max_depth = 40000,min_samples_leaf = 25)\n",
    "#The above gave 0.23018 rmse on valid set\n",
    "\n",
    "new_mod = RandomForestRegressor(n_estimators = 50,n_jobs = 1,min_samples_leaf = 3,\n",
    "                               max_features = 0.5)\n",
    "new_mod.fit(train_X,train_Y)"
   ]
  },
  {
   "cell_type": "code",
   "execution_count": 150,
   "metadata": {},
   "outputs": [
    {
     "data": {
      "text/plain": [
       "('train rsq,val rsq,train rmse, val rmse',\n",
       " [0.2733995399242297,\n",
       "  0.21914062712976445,\n",
       "  0.22167595804528956,\n",
       "  0.23015943165704494])"
      ]
     },
     "execution_count": 150,
     "metadata": {},
     "output_type": "execute_result"
    }
   ],
   "source": [
    "#Check out performance\n",
    "rsq_n_rmse(new_mod,train_X,train_Y,valid_X,valid_Y)"
   ]
  },
  {
   "cell_type": "code",
   "execution_count": 159,
   "metadata": {},
   "outputs": [],
   "source": [
    "#Try converting to array and then record time\n",
    "train_X_array = train_X.as_matrix()"
   ]
  },
  {
   "cell_type": "code",
   "execution_count": 171,
   "metadata": {},
   "outputs": [
    {
     "name": "stdout",
     "output_type": "stream",
     "text": [
      "CPU times: user 48.2 s, sys: 724 ms, total: 48.9 s\n",
      "Wall time: 49 s\n"
     ]
    },
    {
     "data": {
      "text/plain": [
       "RandomForestRegressor(bootstrap=True, criterion='mse', max_depth=None,\n",
       "           max_features=0.5, max_leaf_nodes=None,\n",
       "           min_impurity_decrease=0.0, min_impurity_split=None,\n",
       "           min_samples_leaf=3, min_samples_split=2,\n",
       "           min_weight_fraction_leaf=0.0, n_estimators=50, n_jobs=1,\n",
       "           oob_score=False, random_state=None, verbose=0, warm_start=False)"
      ]
     },
     "execution_count": 171,
     "metadata": {},
     "output_type": "execute_result"
    }
   ],
   "source": [
    "%%time\n",
    "new_mod.fit(train_X_array,train_Y) #bit less time when using arrays as input!\n",
    "#maybe gain will be greater while using larger datasets"
   ]
  },
  {
   "cell_type": "code",
   "execution_count": null,
   "metadata": {},
   "outputs": [],
   "source": [
    "#Split train into train and validation\n",
    "avi_train_X = avi_final_df[0:(avi_final_df.shape[0] - 508438)]"
   ]
  },
  {
   "cell_type": "code",
   "execution_count": null,
   "metadata": {},
   "outputs": [],
   "source": [
    "avi_train_X.shape"
   ]
  },
  {
   "cell_type": "code",
   "execution_count": null,
   "metadata": {},
   "outputs": [],
   "source": [
    "avi_valid_X = avi_final_df[994986: ]"
   ]
  },
  {
   "cell_type": "code",
   "execution_count": null,
   "metadata": {},
   "outputs": [],
   "source": [
    "avi_valid_X.shape"
   ]
  },
  {
   "cell_type": "code",
   "execution_count": null,
   "metadata": {},
   "outputs": [],
   "source": [
    "avi_train_y = y[0:(avi_final_df.shape[0] - 508438)]"
   ]
  },
  {
   "cell_type": "code",
   "execution_count": null,
   "metadata": {},
   "outputs": [],
   "source": [
    "avi_train_y.shape"
   ]
  },
  {
   "cell_type": "code",
   "execution_count": null,
   "metadata": {},
   "outputs": [],
   "source": [
    "avi_valid_y = y[994986: ]"
   ]
  },
  {
   "cell_type": "code",
   "execution_count": null,
   "metadata": {},
   "outputs": [],
   "source": [
    "avi_valid_y.shape"
   ]
  },
  {
   "cell_type": "code",
   "execution_count": null,
   "metadata": {},
   "outputs": [],
   "source": [
    "my_mod_train = RandomForestRegressor(n_jobs = -1,n_estimators=30)\n",
    "my_mod_train.fit(avi_train_X,avi_train_y)"
   ]
  },
  {
   "cell_type": "code",
   "execution_count": null,
   "metadata": {},
   "outputs": [],
   "source": [
    "my_mod_train.score(avi_train_X,avi_train_y)"
   ]
  },
  {
   "cell_type": "code",
   "execution_count": null,
   "metadata": {},
   "outputs": [],
   "source": [
    "my_mod_train.score(avi_valid_X,avi_valid_y)"
   ]
  },
  {
   "cell_type": "code",
   "execution_count": null,
   "metadata": {},
   "outputs": [],
   "source": [
    "?RandomForestRegressor"
   ]
  },
  {
   "cell_type": "code",
   "execution_count": null,
   "metadata": {},
   "outputs": [],
   "source": [
    "def rmse(x,y):\n",
    "    return math.sqrt(((x-y)**2).mean())\n",
    "    "
   ]
  },
  {
   "cell_type": "code",
   "execution_count": null,
   "metadata": {},
   "outputs": [],
   "source": [
    "rmse(my_mod_train.predict(avi_train_X),avi_train_y)"
   ]
  },
  {
   "cell_type": "code",
   "execution_count": null,
   "metadata": {},
   "outputs": [],
   "source": [
    "avi_df_raw.shape"
   ]
  },
  {
   "cell_type": "code",
   "execution_count": 165,
   "metadata": {},
   "outputs": [
    {
     "name": "stdout",
     "output_type": "stream",
     "text": [
      "100000000\n",
      "CPU times: user 11.8 s, sys: 8.56 ms, total: 11.8 s\n",
      "Wall time: 11.8 s\n"
     ]
    }
   ],
   "source": [
    "%%time\n",
    "for i in range(1,100000000):\n",
    "    i = i+1\n",
    "print(i)"
   ]
  },
  {
   "cell_type": "code",
   "execution_count": 172,
   "metadata": {},
   "outputs": [],
   "source": [
    "import pandas as pd"
   ]
  },
  {
   "cell_type": "code",
   "execution_count": null,
   "metadata": {},
   "outputs": [],
   "source": [
    "#Feature engieering data to add date details\n",
    "fastai.structured.add_datepart(avi_df,'activation_date')"
   ]
  }
 ],
 "metadata": {
  "kernelspec": {
   "display_name": "Python 3",
   "language": "python",
   "name": "python3"
  },
  "language_info": {
   "codemirror_mode": {
    "name": "ipython",
    "version": 3
   },
   "file_extension": ".py",
   "mimetype": "text/x-python",
   "name": "python",
   "nbconvert_exporter": "python",
   "pygments_lexer": "ipython3",
   "version": "3.6.5"
  }
 },
 "nbformat": 4,
 "nbformat_minor": 2
}

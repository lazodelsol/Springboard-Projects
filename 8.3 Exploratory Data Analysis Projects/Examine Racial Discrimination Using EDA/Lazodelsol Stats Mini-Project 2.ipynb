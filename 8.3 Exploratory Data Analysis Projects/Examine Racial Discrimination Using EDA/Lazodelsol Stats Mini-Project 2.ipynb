{
 "cells": [
  {
   "cell_type": "markdown",
   "metadata": {},
   "source": [
    "# Examining Racial Discrimination in the US Job Market\n",
    "\n",
    "### Background\n",
    "Racial discrimination continues to be pervasive in cultures throughout the world. Researchers examined the level of racial discrimination in the United States labor market by randomly assigning identical résumés to black-sounding or white-sounding names and observing the impact on requests for interviews from employers.\n",
    "\n",
    "### Data\n",
    "In the dataset provided, each row represents a resume. The 'race' column has two values, 'b' and 'w', indicating black-sounding and white-sounding. The column 'call' has two values, 1 and 0, indicating whether the resume received a call from employers or not.\n",
    "\n",
    "Note that the 'b' and 'w' values in race are assigned randomly to the resumes when presented to the employer."
   ]
  },
  {
   "cell_type": "markdown",
   "metadata": {},
   "source": [
    "<div class=\"span5 alert alert-info\">\n",
    "### Exercises\n",
    "You will perform a statistical analysis to establish whether race has a significant impact on the rate of callbacks for resumes.\n",
    "\n",
    "Answer the following questions **in this notebook below and submit to your Github account**. \n",
    "\n",
    "   1. What test is appropriate for this problem? Does CLT apply?\n",
    "   2. What are the null and alternate hypotheses?\n",
    "   3. Compute margin of error, confidence interval, and p-value. Try using both the bootstrapping and the frequentist statistical approaches.\n",
    "   4. Write a story describing the statistical significance in the context or the original problem.\n",
    "   5. Does your analysis mean that race/name is the most important factor in callback success? Why or why not? If not, how would you amend your analysis?\n",
    "\n",
    "You can include written notes in notebook cells using Markdown: \n",
    "   - In the control panel at the top, choose Cell > Cell Type > Markdown\n",
    "   - Markdown syntax: http://nestacms.com/docs/creating-content/markdown-cheat-sheet\n",
    "\n",
    "\n",
    "#### Resources\n",
    "+ Experiment information and data source: http://www.povertyactionlab.org/evaluation/discrimination-job-market-united-states\n",
    "+ Scipy statistical methods: http://docs.scipy.org/doc/scipy/reference/stats.html \n",
    "+ Markdown syntax: http://nestacms.com/docs/creating-content/markdown-cheat-sheet\n",
    "+ Formulas for the Bernoulli distribution: https://en.wikipedia.org/wiki/Bernoulli_distribution\n",
    "</div>\n",
    "****"
   ]
  },
  {
   "cell_type": "code",
   "execution_count": 1,
   "metadata": {},
   "outputs": [],
   "source": [
    "import pandas as pd\n",
    "import numpy as np\n",
    "from scipy import stats\n",
    "import matplotlib.pyplot as plt\n",
    "%matplotlib inline \n",
    "import seaborn as sns\n",
    "np.random.seed(42)\n",
    "sns.set()\n",
    "import warnings\n",
    "warnings.filterwarnings('ignore')"
   ]
  },
  {
   "cell_type": "code",
   "execution_count": 2,
   "metadata": {},
   "outputs": [],
   "source": [
    "data = pd.io.stata.read_stata('data/us_job_market_discrimination.dta')"
   ]
  },
  {
   "cell_type": "code",
   "execution_count": 3,
   "metadata": {},
   "outputs": [
    {
     "name": "stdout",
     "output_type": "stream",
     "text": [
      "157.0\n",
      "(4870, 65)\n"
     ]
    }
   ],
   "source": [
    "# number of callbacks for black-sounding names\n",
    "print(sum(data[data.race=='b'].call))\n",
    "\n",
    "#\n",
    "print(data.shape)"
   ]
  },
  {
   "cell_type": "code",
   "execution_count": 4,
   "metadata": {},
   "outputs": [
    {
     "data": {
      "text/html": [
       "<div>\n",
       "<style scoped>\n",
       "    .dataframe tbody tr th:only-of-type {\n",
       "        vertical-align: middle;\n",
       "    }\n",
       "\n",
       "    .dataframe tbody tr th {\n",
       "        vertical-align: top;\n",
       "    }\n",
       "\n",
       "    .dataframe thead th {\n",
       "        text-align: right;\n",
       "    }\n",
       "</style>\n",
       "<table border=\"1\" class=\"dataframe\">\n",
       "  <thead>\n",
       "    <tr style=\"text-align: right;\">\n",
       "      <th></th>\n",
       "      <th>id</th>\n",
       "      <th>ad</th>\n",
       "      <th>education</th>\n",
       "      <th>ofjobs</th>\n",
       "      <th>yearsexp</th>\n",
       "      <th>honors</th>\n",
       "      <th>volunteer</th>\n",
       "      <th>military</th>\n",
       "      <th>empholes</th>\n",
       "      <th>occupspecific</th>\n",
       "      <th>...</th>\n",
       "      <th>compreq</th>\n",
       "      <th>orgreq</th>\n",
       "      <th>manuf</th>\n",
       "      <th>transcom</th>\n",
       "      <th>bankreal</th>\n",
       "      <th>trade</th>\n",
       "      <th>busservice</th>\n",
       "      <th>othservice</th>\n",
       "      <th>missind</th>\n",
       "      <th>ownership</th>\n",
       "    </tr>\n",
       "  </thead>\n",
       "  <tbody>\n",
       "    <tr>\n",
       "      <th>0</th>\n",
       "      <td>b</td>\n",
       "      <td>1</td>\n",
       "      <td>4</td>\n",
       "      <td>2</td>\n",
       "      <td>6</td>\n",
       "      <td>0</td>\n",
       "      <td>0</td>\n",
       "      <td>0</td>\n",
       "      <td>1</td>\n",
       "      <td>17</td>\n",
       "      <td>...</td>\n",
       "      <td>1.0</td>\n",
       "      <td>0.0</td>\n",
       "      <td>1.0</td>\n",
       "      <td>0.0</td>\n",
       "      <td>0.0</td>\n",
       "      <td>0.0</td>\n",
       "      <td>0.0</td>\n",
       "      <td>0.0</td>\n",
       "      <td>0.0</td>\n",
       "      <td></td>\n",
       "    </tr>\n",
       "    <tr>\n",
       "      <th>1</th>\n",
       "      <td>b</td>\n",
       "      <td>1</td>\n",
       "      <td>3</td>\n",
       "      <td>3</td>\n",
       "      <td>6</td>\n",
       "      <td>0</td>\n",
       "      <td>1</td>\n",
       "      <td>1</td>\n",
       "      <td>0</td>\n",
       "      <td>316</td>\n",
       "      <td>...</td>\n",
       "      <td>1.0</td>\n",
       "      <td>0.0</td>\n",
       "      <td>1.0</td>\n",
       "      <td>0.0</td>\n",
       "      <td>0.0</td>\n",
       "      <td>0.0</td>\n",
       "      <td>0.0</td>\n",
       "      <td>0.0</td>\n",
       "      <td>0.0</td>\n",
       "      <td></td>\n",
       "    </tr>\n",
       "    <tr>\n",
       "      <th>2</th>\n",
       "      <td>b</td>\n",
       "      <td>1</td>\n",
       "      <td>4</td>\n",
       "      <td>1</td>\n",
       "      <td>6</td>\n",
       "      <td>0</td>\n",
       "      <td>0</td>\n",
       "      <td>0</td>\n",
       "      <td>0</td>\n",
       "      <td>19</td>\n",
       "      <td>...</td>\n",
       "      <td>1.0</td>\n",
       "      <td>0.0</td>\n",
       "      <td>1.0</td>\n",
       "      <td>0.0</td>\n",
       "      <td>0.0</td>\n",
       "      <td>0.0</td>\n",
       "      <td>0.0</td>\n",
       "      <td>0.0</td>\n",
       "      <td>0.0</td>\n",
       "      <td></td>\n",
       "    </tr>\n",
       "    <tr>\n",
       "      <th>3</th>\n",
       "      <td>b</td>\n",
       "      <td>1</td>\n",
       "      <td>3</td>\n",
       "      <td>4</td>\n",
       "      <td>6</td>\n",
       "      <td>0</td>\n",
       "      <td>1</td>\n",
       "      <td>0</td>\n",
       "      <td>1</td>\n",
       "      <td>313</td>\n",
       "      <td>...</td>\n",
       "      <td>1.0</td>\n",
       "      <td>0.0</td>\n",
       "      <td>1.0</td>\n",
       "      <td>0.0</td>\n",
       "      <td>0.0</td>\n",
       "      <td>0.0</td>\n",
       "      <td>0.0</td>\n",
       "      <td>0.0</td>\n",
       "      <td>0.0</td>\n",
       "      <td></td>\n",
       "    </tr>\n",
       "    <tr>\n",
       "      <th>4</th>\n",
       "      <td>b</td>\n",
       "      <td>1</td>\n",
       "      <td>3</td>\n",
       "      <td>3</td>\n",
       "      <td>22</td>\n",
       "      <td>0</td>\n",
       "      <td>0</td>\n",
       "      <td>0</td>\n",
       "      <td>0</td>\n",
       "      <td>313</td>\n",
       "      <td>...</td>\n",
       "      <td>1.0</td>\n",
       "      <td>1.0</td>\n",
       "      <td>0.0</td>\n",
       "      <td>0.0</td>\n",
       "      <td>0.0</td>\n",
       "      <td>0.0</td>\n",
       "      <td>0.0</td>\n",
       "      <td>1.0</td>\n",
       "      <td>0.0</td>\n",
       "      <td>Nonprofit</td>\n",
       "    </tr>\n",
       "  </tbody>\n",
       "</table>\n",
       "<p>5 rows × 65 columns</p>\n",
       "</div>"
      ],
      "text/plain": [
       "  id ad  education  ofjobs  yearsexp  honors  volunteer  military  empholes  \\\n",
       "0  b  1          4       2         6       0          0         0         1   \n",
       "1  b  1          3       3         6       0          1         1         0   \n",
       "2  b  1          4       1         6       0          0         0         0   \n",
       "3  b  1          3       4         6       0          1         0         1   \n",
       "4  b  1          3       3        22       0          0         0         0   \n",
       "\n",
       "   occupspecific    ...      compreq  orgreq  manuf  transcom  bankreal trade  \\\n",
       "0             17    ...          1.0     0.0    1.0       0.0       0.0   0.0   \n",
       "1            316    ...          1.0     0.0    1.0       0.0       0.0   0.0   \n",
       "2             19    ...          1.0     0.0    1.0       0.0       0.0   0.0   \n",
       "3            313    ...          1.0     0.0    1.0       0.0       0.0   0.0   \n",
       "4            313    ...          1.0     1.0    0.0       0.0       0.0   0.0   \n",
       "\n",
       "  busservice othservice  missind  ownership  \n",
       "0        0.0        0.0      0.0             \n",
       "1        0.0        0.0      0.0             \n",
       "2        0.0        0.0      0.0             \n",
       "3        0.0        0.0      0.0             \n",
       "4        0.0        1.0      0.0  Nonprofit  \n",
       "\n",
       "[5 rows x 65 columns]"
      ]
     },
     "execution_count": 4,
     "metadata": {},
     "output_type": "execute_result"
    }
   ],
   "source": [
    "data.head()"
   ]
  },
  {
   "cell_type": "code",
   "execution_count": 5,
   "metadata": {},
   "outputs": [
    {
     "data": {
      "text/plain": [
       "Index(['id', 'ad', 'education', 'ofjobs', 'yearsexp', 'honors', 'volunteer',\n",
       "       'military', 'empholes', 'occupspecific', 'occupbroad', 'workinschool',\n",
       "       'email', 'computerskills', 'specialskills', 'firstname', 'sex', 'race',\n",
       "       'h', 'l', 'call', 'city', 'kind', 'adid', 'fracblack', 'fracwhite',\n",
       "       'lmedhhinc', 'fracdropout', 'fraccolp', 'linc', 'col', 'expminreq',\n",
       "       'schoolreq', 'eoe', 'parent_sales', 'parent_emp', 'branch_sales',\n",
       "       'branch_emp', 'fed', 'fracblack_empzip', 'fracwhite_empzip',\n",
       "       'lmedhhinc_empzip', 'fracdropout_empzip', 'fraccolp_empzip',\n",
       "       'linc_empzip', 'manager', 'supervisor', 'secretary', 'offsupport',\n",
       "       'salesrep', 'retailsales', 'req', 'expreq', 'comreq', 'educreq',\n",
       "       'compreq', 'orgreq', 'manuf', 'transcom', 'bankreal', 'trade',\n",
       "       'busservice', 'othservice', 'missind', 'ownership'],\n",
       "      dtype='object')"
      ]
     },
     "execution_count": 5,
     "metadata": {},
     "output_type": "execute_result"
    }
   ],
   "source": [
    "data.columns"
   ]
  },
  {
   "cell_type": "markdown",
   "metadata": {
    "collapsed": true
   },
   "source": [
    "<div class=\"span5 alert alert-success\">\n",
    "<p>Your answers to Q1 and Q2 here</p>\n",
    "</div>"
   ]
  },
  {
   "cell_type": "code",
   "execution_count": 6,
   "metadata": {},
   "outputs": [
    {
     "name": "stdout",
     "output_type": "stream",
     "text": [
      "(2435, 65) (2435, 65)\n",
      "235.0 157.0\n"
     ]
    }
   ],
   "source": [
    "w = data[data.race=='w']\n",
    "b = data[data.race=='b']\n",
    "w_call = w.call\n",
    "b_call = b.call\n",
    "print(w.shape, b.shape)\n",
    "print(np.sum(w_call), np.sum(b_call))"
   ]
  },
  {
   "cell_type": "markdown",
   "metadata": {},
   "source": [
    "## Question 1 and 2: What test is appropriate for this problem? Does CLT apply?, What are the null and alternate hypotheses?\n",
    "\n",
    "For this project, I will be conducting a $z$ test as opposed to a $t$ test. The reasoning behind this is that since we are comparing the statistics of the sample proportions, we can immediately rule out using the $t$ test. To check if the central limit theorem applies, we compare our sample size to see if it is above 30. This indeed holds true, with a total sample size of 4870. Here, we will now state our hypothesis (denoted by $H_{0}$ and $H_{a}$ for the null and alternative hypotheses respectively:\n",
    "* $H_{0} =$ There is no effect on whether or not a candidate will recieve a callback from the employer based off the candidate's name's perceived blackness or whiteness. \n",
    "* $H_{a} =$ There is an effect on whether or not a candidate will recieve a callback from the employer based off the candidate's name's perceived blackness or whiteness. \n",
    "\n",
    "For the remainder of this project, I will be computing a confidence interval of 95% and comparing against an alpha value of .05."
   ]
  },
  {
   "cell_type": "markdown",
   "metadata": {},
   "source": [
    "<div class=\"span5 alert alert-success\">\n",
    "<p>Your answers to Q3 here</p>\n",
    "</div>"
   ]
  },
  {
   "cell_type": "markdown",
   "metadata": {},
   "source": [
    "## Question 3: Compute margin of error, confidence interval, and p-value. Try using both the bootstrapping and the frequentist statistical approaches.\n",
    "\n",
    "### Bootstrapping Approach:"
   ]
  },
  {
   "cell_type": "code",
   "execution_count": 7,
   "metadata": {
    "scrolled": true
   },
   "outputs": [
    {
     "name": "stdout",
     "output_type": "stream",
     "text": [
      "Difference of means = 0.03203285485506058\n",
      "95% confidence interval = [0.01683778 0.04722793]\n",
      "Margin of error = 0.015152539488055559\n"
     ]
    }
   ],
   "source": [
    "# Define bootstrap replicates function\n",
    "def draw_bs_reps(data, func, size = 1):\n",
    "    bs_replicates = np.empty(size)\n",
    "    for i in range(size):\n",
    "        bs_replicates[i] = func(np.random.choice(data, size=len(data)))\n",
    "    return bs_replicates\n",
    "\n",
    "# Compute the difference of the sample means\n",
    "mean_diff = np.mean(w_call) - np.mean(b_call)\n",
    "\n",
    "# Generate bootstrap replicates of the means\n",
    "bs_reps_white = draw_bs_reps(w_call, np.mean, size = 10000)\n",
    "bs_reps_black = draw_bs_reps(b_call, np.mean, size = 10000)\n",
    "\n",
    "# Compute the samples of difference of means\n",
    "bs_diff_reps = bs_reps_white - bs_reps_black\n",
    "\n",
    "# Compute a 95% confidence interval\n",
    "conf_int = np.percentile(bs_diff_reps, [2.5, 97.5])\n",
    "\n",
    "# Looking up a z-table, we find that for a 95% confidence interval we get a value of z = 1.96\n",
    "z = 1.96\n",
    "\n",
    "print('Difference of means =', mean_diff)\n",
    "print('95% confidence interval =', conf_int)\n",
    "print('Margin of error =', z * np.std(bs_diff_reps))"
   ]
  },
  {
   "cell_type": "code",
   "execution_count": 8,
   "metadata": {},
   "outputs": [
    {
     "name": "stdout",
     "output_type": "stream",
     "text": [
      "p =  3e-05\n"
     ]
    }
   ],
   "source": [
    "# Now let's conduct a hypothesis test for the null hypothesis: That is, we expect the differences of the mean to be 0. \n",
    "# We start by shifting the samples so that intial data sets have the same mean.\n",
    "combined_mean = np.mean(np.concatenate((w_call, b_call)))\n",
    "w_call_shifted = w_call - np.mean(w_call) + combined_mean\n",
    "b_call_shifted = b_call - np.mean(b_call) + combined_mean\n",
    "\n",
    "# Generate bootstrap replicates of shifted data sets\n",
    "bs_reps_white_shifted = draw_bs_reps(w_call_shifted, np.mean, size = 100000)\n",
    "bs_reps_black_shifted = draw_bs_reps(b_call_shifted, np.mean, size = 100000)\n",
    "\n",
    "# Compute the samples of difference of means\n",
    "bs_diff_reps_shifted = bs_reps_white_shifted - bs_reps_black_shifted\n",
    "\n",
    "# Compute the p-value\n",
    "p = np.sum(bs_diff_reps_shifted >= mean_diff) / len(bs_diff_reps_shifted)\n",
    "\n",
    "print(\"p = \", p)"
   ]
  },
  {
   "cell_type": "code",
   "execution_count": 9,
   "metadata": {
    "scrolled": true
   },
   "outputs": [
    {
     "data": {
      "image/png": "[encoded data removed]",
      "text/plain": [
       "<Figure size 1080x360 with 1 Axes>"
      ]
     },
     "metadata": {},
     "output_type": "display_data"
    }
   ],
   "source": [
    "# For good measure, let's also graph these the two distributions of the bootstrap replicates against each other.\n",
    "_ = plt.figure(figsize = (15, 5))\n",
    "_ = sns.distplot(bs_diff_reps, bins = 50, label = \"Bootstrap replicates of sample data\")\n",
    "_ = sns.distplot(bs_diff_reps_shifted, bins = 50, label = \"Bootstrap replicates of null hypothesis\")\n",
    "_ = plt.xlabel(\"Difference in bootstrap means\")\n",
    "_ = plt.ylabel(\"Frequency of bootstrap means\")\n",
    "_ = plt.legend(loc = \"upper left\")\n",
    "plt.show()"
   ]
  },
  {
   "cell_type": "markdown",
   "metadata": {},
   "source": [
    "### Frequentist Approach:"
   ]
  },
  {
   "cell_type": "code",
   "execution_count": 10,
   "metadata": {},
   "outputs": [
    {
     "name": "stdout",
     "output_type": "stream",
     "text": [
      "0.09650924024640657 0.06447638603696099 0.032032854209445585\n"
     ]
    }
   ],
   "source": [
    "# Let's start by calculating some values from our datasets that will be useful in testing our hypothesis\n",
    "n = 2435\n",
    "w_mean = sum(w_call)/n\n",
    "b_mean = sum(b_call)/n\n",
    "mean_diff = w_mean - b_mean\n",
    "print(w_mean, b_mean, mean_diff)"
   ]
  },
  {
   "cell_type": "code",
   "execution_count": 11,
   "metadata": {},
   "outputs": [
    {
     "name": "stdout",
     "output_type": "stream",
     "text": [
      "Difference of means = 0.032032854209445585\n",
      "95% confidence interval = [0.016777447859559147, 0.047288260559332024]\n",
      "Margin of error = 0.015255406349886438\n"
     ]
    }
   ],
   "source": [
    "# Now let's calculate the necessary values: The margin of error, the 95% confidence interval and the p-value\n",
    "# Since our sample size is large, we can estimate our standard deviation using the sample data\n",
    "std_mean_diff = np.sqrt(((w_mean*(1-w_mean))/n) + ((b_mean*(1-b_mean))/n))\n",
    "\n",
    "#Our margin of error would then be this value multiplied by our pulled z value (same as the value from the bootstrap method)\n",
    "d = z * std_mean_diff\n",
    "\n",
    "print('Difference of means =', mean_diff)\n",
    "print('95% confidence interval =', [mean_diff - d, mean_diff + d])\n",
    "print('Margin of error =', d)"
   ]
  },
  {
   "cell_type": "code",
   "execution_count": 12,
   "metadata": {},
   "outputs": [
    {
     "name": "stdout",
     "output_type": "stream",
     "text": [
      "4.108412152434346\n"
     ]
    }
   ],
   "source": [
    "# As above, let's now conduct a hypothesis test for the null hypothesis: That is, we expect the differences of the mean to be 0.\n",
    "# Assuming our null hypothesis is true, let's calculate the corresponding z score.\n",
    "# Start by calculating the new standard deviation of the sampling distribution assuming the null hypothesis is correct. \n",
    "p = (sum(w_call)+sum(b_call)) / (2 * n)\n",
    "std_null = np.sqrt((2/n)*(p*(1-p)))\n",
    "\n",
    "# Now we have enough information to calculate our new z score.\n",
    "z_null = (mean_diff - 0) / std_null\n",
    "print(z_null)"
   ]
  },
  {
   "cell_type": "code",
   "execution_count": 13,
   "metadata": {},
   "outputs": [
    {
     "name": "stdout",
     "output_type": "stream",
     "text": [
      "p =  4.1e-05\n"
     ]
    }
   ],
   "source": [
    "# I was not able to find a table containing a z-score this high, so I used an online calculator for a 2-tailed test which gives:\n",
    "p = 4.1E-05\n",
    "print(\"p = \", p)"
   ]
  },
  {
   "cell_type": "code",
   "execution_count": 14,
   "metadata": {},
   "outputs": [
    {
     "data": {
      "image/png": "[encoded data removed]",
      "text/plain": [
       "<Figure size 1080x360 with 1 Axes>"
      ]
     },
     "metadata": {},
     "output_type": "display_data"
    }
   ],
   "source": [
    "# As above, let's utilize the data we've calculated to draw some simple probability distribution curves\n",
    "\n",
    "x = np.linspace(-.04, .08, 100)\n",
    "y_sample = stats.norm.pdf(x, mean_diff, std_mean_diff) # the sample distribution\n",
    "y_null = stats.norm.pdf(x, 0, std_null) #the null hypothesis distribution\n",
    "_ = plt.figure(figsize = (15, 5))\n",
    "_ = plt.plot(x, y_sample, label='Sample Distribution')\n",
    "_ = plt.plot(x, y_null, label='Null Hypothesis Distribution')\n",
    "_ = plt.xlabel(\"Difference in means\")\n",
    "_ = plt.ylabel(\"Probability\")\n",
    "_ = plt.legend(loc = \"upper left\");\n",
    "plt.show()"
   ]
  },
  {
   "cell_type": "markdown",
   "metadata": {},
   "source": [
    "<div class=\"span5 alert alert-success\">\n",
    "<p> Your answers to Q4 and Q5 here </p>\n",
    "</div>"
   ]
  },
  {
   "cell_type": "markdown",
   "metadata": {},
   "source": [
    "## Questions 4 and 5: Write a story describing the statistical significance in the context of the original problem. Does your analysis mean that race/name is the most important factor in callback success? Why or why not? If not, how would you amend your analysis?\n",
    "\n",
    "From both the bootstrap method and the frequentist approach, we can see that whether or not a candidate has a percieved white or black name *is* statistically significant. Therefore we reject the null hypothesis. In the bootstrap method, we see that even with a simulated sample size of over 100000 data points we only get a .003% chance that the bootstrapped data matches with our null hypothesis. In fact, when I originally completed this exercise I only used sample sizes of 10000, but that wasn't enough to capture even a single occurance that fits the null hypothesis. A similar story is told from using the frequentist data. Given a p-value of 4.1e-5, it means we only have a .0041% chance that the sample data we collected fits with the null hypothesis. Knowing this, a cursory look at the mean difference values between our sample data could've given us a similar conclusion. With mean values of 0.096 and 0.064 for white callbacks and black callbacks respectively, we see that candidates with white-sounding names have 1.5 times the call back rate compared to candidates with black-sounding names. \n",
    "\n",
    "This is however, not a complete analysis. Looking at our dataframe, we note that there are 64 columns not including the call back column, all of which could have a strong correlation between them and getting a call back. Therefore the statement that race is the most important factor in callback success cannot be confirmed. To amend my analysis, I would instead draw a correlation heatmap between selected columns that make sense with regard to playing a factor in callback success and repeat the above analysis for each column."
   ]
  },
  {
   "cell_type": "code",
   "execution_count": null,
   "metadata": {},
   "outputs": [],
   "source": []
  }
 ],
 "metadata": {
  "kernelspec": {
   "display_name": "Python 3",
   "language": "python",
   "name": "python3"
  },
  "language_info": {
   "codemirror_mode": {
    "name": "ipython",
    "version": 3
   },
   "file_extension": ".py",
   "mimetype": "text/x-python",
   "name": "python",
   "nbconvert_exporter": "python",
   "pygments_lexer": "ipython3",
   "version": "3.6.5"
  }
 },
 "nbformat": 4,
 "nbformat_minor": 1
}

{
 "cells": [
  {
   "cell_type": "markdown",
   "metadata": {},
   "source": [
    "# What is the True Normal Human Body Temperature? \n",
    "\n",
    "#### Background\n",
    "\n",
    "The mean normal body temperature was held to be 37$^{\\circ}$C or 98.6$^{\\circ}$F for more than 120 years since it was first conceptualized and reported by Carl Wunderlich in a famous 1868 book. But, is this value statistically correct?"
   ]
  },
  {
   "cell_type": "markdown",
   "metadata": {},
   "source": [
    "<h3>Exercises</h3>\n",
    "\n",
    "<p>In this exercise, you will analyze a dataset of human body temperatures and employ the concepts of hypothesis testing, confidence intervals, and statistical significance.</p>\n",
    "\n",
    "<p>Answer the following questions <b>in this notebook below and submit to your Github account</b>.</p> \n",
    "\n",
    "<ol>\n",
    "<li>  Is the distribution of body temperatures normal? \n",
    "    <ul>\n",
    "    <li> Although this is not a requirement for the Central Limit Theorem to hold (read the introduction on Wikipedia's page about the CLT carefully: https://en.wikipedia.org/wiki/Central_limit_theorem), it gives us some peace of mind that the population may also be normally distributed if we assume that this sample is representative of the population.\n",
    "    <li> Think about the way you're going to check for the normality of the distribution. Graphical methods are usually used first, but there are also other ways: https://en.wikipedia.org/wiki/Normality_test\n",
    "    </ul>\n",
    "<li>  Is the sample size large? Are the observations independent?\n",
    "    <ul>\n",
    "    <li> Remember that this is a condition for the Central Limit Theorem, and hence the statistical tests we are using, to apply.\n",
    "    </ul>\n",
    "<li>  Is the true population mean really 98.6 degrees F?\n",
    "    <ul>\n",
    "    <li> First, try a bootstrap hypothesis test.\n",
    "    <li> Now, let's try frequentist statistical testing. Would you use a one-sample or two-sample test? Why?\n",
    "    <li> In this situation, is it appropriate to use the $t$ or $z$ statistic? \n",
    "    <li> Now try using the other test. How is the result be different? Why?\n",
    "    </ul>\n",
    "<li>  Draw a small sample of size 10 from the data and repeat both frequentist tests. \n",
    "    <ul>\n",
    "    <li> Which one is the correct one to use? \n",
    "    <li> What do you notice? What does this tell you about the difference in application of the $t$ and $z$ statistic?\n",
    "    </ul>\n",
    "<li>  At what temperature should we consider someone's temperature to be \"abnormal\"?\n",
    "    <ul>\n",
    "    <li> As in the previous example, try calculating everything using the boostrap approach, as well as the frequentist approach.\n",
    "    <li> Start by computing the margin of error and confidence interval. When calculating the confidence interval, keep in mind that you should use the appropriate formula for one draw, and not N draws.\n",
    "    </ul>\n",
    "<li>  Is there a significant difference between males and females in normal temperature?\n",
    "    <ul>\n",
    "    <li> What testing approach did you use and why?\n",
    "    <li> Write a story with your conclusion in the context of the original problem.\n",
    "    </ul>\n",
    "</ol>\n",
    "\n",
    "You can include written notes in notebook cells using Markdown: \n",
    "   - In the control panel at the top, choose Cell > Cell Type > Markdown\n",
    "   - Markdown syntax: http://nestacms.com/docs/creating-content/markdown-cheat-sheet\n",
    "\n",
    "#### Resources\n",
    "\n",
    "+ Information and data sources: http://www.amstat.org/publications/jse/datasets/normtemp.txt, http://www.amstat.org/publications/jse/jse_data_archive.htm\n",
    "+ Markdown syntax: http://nestacms.com/docs/creating-content/markdown-cheat-sheet\n",
    "\n",
    "****"
   ]
  },
  {
   "cell_type": "code",
   "execution_count": 36,
   "metadata": {},
   "outputs": [],
   "source": [
    "import pandas as pd\n",
    "import numpy as np\n",
    "from scipy import stats\n",
    "import matplotlib.pyplot as plt\n",
    "%matplotlib inline  \n",
    "import seaborn as sns\n",
    "sns.set()\n",
    "np.random.seed(42)\n",
    "import warnings\n",
    "warnings.filterwarnings('ignore')"
   ]
  },
  {
   "cell_type": "code",
   "execution_count": 37,
   "metadata": {},
   "outputs": [
    {
     "name": "stdout",
     "output_type": "stream",
     "text": [
      "(130, 3) Index(['temperature', 'gender', 'heart_rate'], dtype='object')\n",
      "   temperature gender  heart_rate\n",
      "0         99.3      F        68.0\n",
      "1         98.4      F        81.0\n",
      "2         97.8      M        73.0\n",
      "3         99.2      F        66.0\n",
      "4         98.0      F        73.0\n",
      "(65, 3) (65, 3)\n"
     ]
    }
   ],
   "source": [
    "df = pd.read_csv('data/human_body_temperature.csv')\n",
    "print(df.shape, df.columns)\n",
    "print(df.head())\n",
    "print(df[df[\"gender\"] == \"M\"].shape, df[df[\"gender\"] == \"F\"].shape)"
   ]
  },
  {
   "cell_type": "markdown",
   "metadata": {
    "collapsed": true
   },
   "source": [
    "## Question 1 & 2. Is the distribution of the body temperatures normal/Is the sample size large?\n",
    "According to the lecture materials, for this type of scenario there are 3 ways of determining normality:\n",
    "1. That the underlying parent population is normal\n",
    "  * This is true (http://www.stat.wisc.edu/~st571-1/07-normal-4.pdf)\n",
    "2. That the sample size is greater than or equal to 30 (from the CLT)\n",
    "  * This is also true. Our sample size is 130 which is greather than or equal to 30. (https://www.youtube.com/watch?v=GtokpL4f32s)\n",
    "3. That our sample is symmetric and has no outliers\n",
    "  * We can graphically test this as followed below:"
   ]
  },
  {
   "cell_type": "code",
   "execution_count": 38,
   "metadata": {},
   "outputs": [
    {
     "data": {
      "image/png": "[encoded data removed]",
      "text/plain": [
       "<Figure size 432x288 with 1 Axes>"
      ]
     },
     "metadata": {},
     "output_type": "display_data"
    }
   ],
   "source": [
    "_ = sns.distplot(df.temperature, bins = 25)"
   ]
  },
  {
   "cell_type": "markdown",
   "metadata": {},
   "source": [
    "Here we see that our data is strongly skewed towards the left, where the data has a sharp cutoff at around $100^{\\circ}F$. However, since our previous two conditions were satisfied, we will continue with the exercise assuming that the distribution is indeed normal. Regarding the condition of whether or not our sample's observations are independent, although we do *not* know whether or not the sampling data was taken with replacement, we do know that it is less than or equal to 10% of the total population. Therefore we conclude that the data's sample size is large enough for the CLT and that it contains independent observations. Lastly, we cite from the source material that the data collected is a *random sample*, satisfying all the criteria needed to conduct a statistical test."
   ]
  },
  {
   "cell_type": "markdown",
   "metadata": {},
   "source": [
    "## Question 3. Is the true population mean really $98.6^{\\circ}F$?\n",
    "In both our bootstrap and frequentists tests, we will consider the null hypothesis that the mean of the $98.6^{\\circ}F$ holds true. That is:\n",
    "* $H_{0} =$ The true mean of the human population's body temperature is $98.6^{\\circ}F$. \n",
    "* $H_{a} =$ The true mean of the human population's body temperature is **not** $98.6^{\\circ}F$.\n",
    "\n",
    "We will also be moving forwarding with all our testing at an alpha level of $\\alpha = .05$.\n",
    "### Bootstrap Method:"
   ]
  },
  {
   "cell_type": "code",
   "execution_count": 39,
   "metadata": {},
   "outputs": [
    {
     "name": "stdout",
     "output_type": "stream",
     "text": [
      "p =  0.0\n"
     ]
    }
   ],
   "source": [
    "temps = df.temperature\n",
    "\n",
    "# Define bootstrap replicates function\n",
    "def draw_bs_reps(data, func, size = 1):\n",
    "    bs_replicates = np.empty(size)\n",
    "    for i in range(size):\n",
    "        bs_replicates[i] = func(np.random.choice(data, size=len(data)))\n",
    "    return bs_replicates\n",
    "\n",
    "# Translate our temperatures assuming the null hypothesis is correct\n",
    "translated_temps = temps - np.mean(temps) + 98.6\n",
    "\n",
    "# Draw bootstrap replicates of the mean temperature\n",
    "bs_replicates = draw_bs_reps(translated_temps, np.mean, size = 150)\n",
    "\n",
    "# Compute fraction of replicates that are less than the accepted temperature value: p_bs\n",
    "p_bs = np.sum(bs_replicates <= np.mean(temps)) / len(bs_replicates)\n",
    "print(\"p = \", p_bs)"
   ]
  },
  {
   "cell_type": "markdown",
   "metadata": {},
   "source": [
    "Looking at our calculations, we see that using bootstrap methods gives us a p-value of 0.0. Since our p-value is incredibly small, we *reject* the null hypothesis utilizing the bootstrap method. However, this does not take into account the fact that we're sampling over both female and male samples, a variable that could effect our sample mean. However, let's move forward with the assignment. More specifically, let's investigate frequentist statistical methods."
   ]
  },
  {
   "cell_type": "markdown",
   "metadata": {},
   "source": [
    "### Frequentist Method:\n",
    "Now let's conduct our statistical testing using frequentist methods. Because our null hypothesis states that true mean of the *total* human population's body temperature is $98.6^{\\circ}F$, the one-sample test satisfies our requirements. In this situation, it is more appropriate to do a $t$ test because we don't know the total population's standard deviation. Therefore we expect that the results from a $t$ test will be more accurate than one of a $z$ test:\n",
    "\n",
    "#### One-sample *t* test (two-tailed):\n",
    "Althought we have a library (scipy.stats) that allows to do this test just by specifying the array and the mean we're testing against, let's start by doing a calculation by hand. That is, we use:\n",
    "<font size = 4> $t = \\frac{\\overline{X} - \\mu}{\\frac{S}{\\sqrt{n}}}$ </font>"
   ]
  },
  {
   "cell_type": "code",
   "execution_count": 40,
   "metadata": {},
   "outputs": [
    {
     "name": "stdout",
     "output_type": "stream",
     "text": [
      "-5.475925202078116\n"
     ]
    }
   ],
   "source": [
    "t_eq = (np.mean(temps) - 98.6) / (np.std(temps)/np.sqrt(len(temps)))\n",
    "print(t_eq)"
   ]
  },
  {
   "cell_type": "markdown",
   "metadata": {},
   "source": [
    "For this $t$ value, we look at a table to find that our $p < .00001$. Now let's use the scipy.stats package to conduct the same test to double check our answer."
   ]
  },
  {
   "cell_type": "code",
   "execution_count": 41,
   "metadata": {},
   "outputs": [
    {
     "name": "stdout",
     "output_type": "stream",
     "text": [
      "t-value = -5.4548232923645195\n",
      "p-value = 2.4106320415561276e-07\n"
     ]
    }
   ],
   "source": [
    "t_calc, p_calc = stats.ttest_1samp(temps, 98.6)\n",
    "print(\"t-value =\", t_calc)\n",
    "print(\"p-value =\", p_calc)"
   ]
  },
  {
   "cell_type": "markdown",
   "metadata": {},
   "source": [
    "The above $t$ and $p$ values match (to 2 significant figures) with what we've calculated. These results indicate that we *reject* the null hypothesis.\n",
    "#### Two-sample *t* test (two-tailed):\n",
    "For this test, we will be comparing the values of the female group to those of the male group assuming the null hypothesis is true (also known as an independent samples $t$ test). This implies that there should be no difference between the true mean human body temperature for female and the true mean body temperature for males. This is given by:\n",
    "<font size = 4>$t = \\frac{\\overline{X_{1}}-\\overline{X_2}}{s_{p}\\sqrt{\\frac{2}{n}}}$</font>\n",
    "\n",
    "Where $s_{p}$ is the pooled standard deviation as given by:\n",
    "<font size = 4>$s_{p} = \\sqrt{\\frac{s_{X_{1}}^2 + s_{X_{2}}^2}{2}}$</font>"
   ]
  },
  {
   "cell_type": "code",
   "execution_count": 42,
   "metadata": {},
   "outputs": [
    {
     "name": "stdout",
     "output_type": "stream",
     "text": [
      "(65,) (65,)\n"
     ]
    }
   ],
   "source": [
    "# Let's split up our data into two samples: male and female.\n",
    "male_temps = df[df[\"gender\"] == \"M\"].temperature\n",
    "female_temps = df[df[\"gender\"] == \"F\"].temperature\n",
    "print(male_temps.shape, female_temps.shape)"
   ]
  },
  {
   "cell_type": "code",
   "execution_count": 43,
   "metadata": {},
   "outputs": [
    {
     "name": "stdout",
     "output_type": "stream",
     "text": [
      "-2.303220289194013\n"
     ]
    }
   ],
   "source": [
    "# Since we're working with an n-value that's the same across both datasets, we can continue with our independent sample t-test\n",
    "n = 65\n",
    "male_temps_avg = np.mean(male_temps)\n",
    "male_temps_std = np.std(male_temps)\n",
    "female_temps_avg = np.mean(female_temps)\n",
    "female_temps_std = np.std(female_temps)\n",
    "s_p = np.sqrt((male_temps_std ** 2 + female_temps_std ** 2)/2)\n",
    "t_eq_two = (male_temps_avg - female_temps_avg)/(s_p * np.sqrt(2/n))\n",
    "print(t_eq_two)"
   ]
  },
  {
   "cell_type": "code",
   "execution_count": 44,
   "metadata": {},
   "outputs": [
    {
     "name": "stdout",
     "output_type": "stream",
     "text": [
      "t-value = -2.303220289194013\n",
      "p-value = 0.024719\n"
     ]
    }
   ],
   "source": [
    "# Looking at a t-table for a two-tailed test, we find the corresponding p-value\n",
    "p_eq_two = .024719\n",
    "print(\"t-value =\", t_eq_two)\n",
    "print(\"p-value =\", p_eq_two)"
   ]
  },
  {
   "cell_type": "code",
   "execution_count": 45,
   "metadata": {},
   "outputs": [
    {
     "name": "stdout",
     "output_type": "stream",
     "text": [
      "t-value = -2.2854345381656103\n",
      "p-value = 0.02393188312239561\n"
     ]
    }
   ],
   "source": [
    "# Now let's utilize our scipy.stats library to check our answers\n",
    "t_calc_two, p_calc_two = stats.ttest_ind(male_temps, female_temps)\n",
    "print(\"t-value =\", t_calc_two)\n",
    "print(\"p-value =\", p_calc_two)"
   ]
  },
  {
   "cell_type": "markdown",
   "metadata": {},
   "source": [
    "Within two significant figures, we see that our values match. However, now we have $p$-values that are significantly higher than the ones calculated using the one-sample $t$-test. Since one of the critera for conducing this independent samples test is that the two sets of data are independent of each other, this increase in p-value suggests that there *is* a dependency on whether or not the sample candidate is male or female. "
   ]
  },
  {
   "cell_type": "markdown",
   "metadata": {},
   "source": [
    "## Question 4. Draw a small sample of size 10 from the data and repeat both frequentist tests. Which one is the correct one to use? What do you notice? What does this tell you about the difference in application of the $t$  and  $z$  statistic?"
   ]
  },
  {
   "cell_type": "markdown",
   "metadata": {},
   "source": [
    "Now we will conduct all the above frequentist statistical testing again on a new sample data of 10 data points randomly collected from our total sample data. We begin by creating our creating our new sample data sets."
   ]
  },
  {
   "cell_type": "code",
   "execution_count": 46,
   "metadata": {},
   "outputs": [],
   "source": [
    "# New sample data generation\n",
    "temps_10 = np.empty(10)\n",
    "for i in range(10):\n",
    "    temps_10[i] = np.random.choice(temps)\n",
    "\n",
    "male_temps_5 = np.empty(5)\n",
    "female_temps_5 = np.empty(5)\n",
    "for i in range(5):\n",
    "    male_temps_5[i] = np.random.choice(male_temps)\n",
    "    female_temps_5[i] = np.random.choice(female_temps)"
   ]
  },
  {
   "cell_type": "code",
   "execution_count": 47,
   "metadata": {},
   "outputs": [
    {
     "name": "stdout",
     "output_type": "stream",
     "text": [
      "t-value = -3.69507787854565\n",
      "p-value = 0.004958218469660159\n"
     ]
    }
   ],
   "source": [
    "# One-sample t-test\n",
    "t_10_calc, p_10_calc = stats.ttest_1samp(temps_10, 98.6)\n",
    "print(\"t-value =\", t_10_calc)\n",
    "print(\"p-value =\", p_10_calc)"
   ]
  },
  {
   "cell_type": "code",
   "execution_count": 48,
   "metadata": {},
   "outputs": [
    {
     "name": "stdout",
     "output_type": "stream",
     "text": [
      "t-value = -0.9442069748194072\n",
      "p-value = 0.37270241949818617\n"
     ]
    }
   ],
   "source": [
    "# Two-sample t-test\n",
    "t_5_calc_two, p_5_calc_two = stats.ttest_ind(male_temps_5, female_temps_5)\n",
    "print(\"t-value =\", t_5_calc_two)\n",
    "print(\"p-value =\", p_5_calc_two)"
   ]
  },
  {
   "cell_type": "markdown",
   "metadata": {},
   "source": [
    "Looking at our new $t$ and $p$-values from this randomly selected data, in order for us to make the same conclusions as we've done above (reject the null hypothesis) it's clear that the one-sample test is the correct one to use, as it's the only one that satisfies our criteria of having a value that's less than our initial statement of $\\alpha =.05$. In addition, we notice that our two-sample test has resulted in values that are drastically different than the ones we've calculated earlier. This is an example that highlights the difference in $t$ and $z$ statistics: namely, $t$ statistics heavily rely on us having a large enough sample size for us to garner statistically accurate results (namely, how the t-statistic is proportional to the standard deviation of our tested sample) while a $z$ statistic relies on information regarding the total sample population."
   ]
  },
  {
   "cell_type": "markdown",
   "metadata": {},
   "source": [
    "## Question 5. At what temperature should we consider someone's temperature to be \"abnormal\"? As in the previous example, try calculating everything using the boostrap approach, as well as the frequentist approach. Start by computing the margin of error and confidence interval. When calculating the confidence interval, keep in mind that you should use the appropriate formula for one draw, and not N draws."
   ]
  },
  {
   "cell_type": "markdown",
   "metadata": {},
   "source": [
    "For this question, we will be using our total sample set of data and instead of testing it against a known value, we will be trying to calculate a range of values that we can consider to be \"normal\". Here, I will state that my range of normal values will only include values that fall within an interval that captures 90% of the data. The values at which this no longer holds true for our data will be the temperatures that the sample candidate no longer as a \"normal\" body temperature. We will do this using both bootstrap and frequentist statistics (ignoring the 2-sample test, as we know that the two data sets are *not* independent of each other)\n",
    "### Bootstrap Method:"
   ]
  },
  {
   "cell_type": "code",
   "execution_count": 49,
   "metadata": {},
   "outputs": [
    {
     "name": "stdout",
     "output_type": "stream",
     "text": [
      "Average Temperature = 98.59901025641024\n",
      "90% confidence interval = [98.49061538 98.69730769]\n",
      "Margin of error = 0.10272106683395613\n"
     ]
    }
   ],
   "source": [
    "# Draw bootstrap replicates of the mean temperature\n",
    "abnormal_bs_replicates = draw_bs_reps(translated_temps, np.mean, size = 150)\n",
    "\n",
    "ab_bs_rep_mean = np.mean(abnormal_bs_replicates)\n",
    "ab_bs_rep_std = np.std(abnormal_bs_replicates)\n",
    "t_90 = 1.655 #found on (https://www.medcalc.org/manual/t-distribution.php)\n",
    "\n",
    "#Compute confidence interval that includes 90% of the data\n",
    "abnormal_conf_int = np.percentile(abnormal_bs_replicates, [5, 95])\n",
    "\n",
    "print('Average Temperature =', ab_bs_rep_mean)\n",
    "print('90% confidence interval =', abnormal_conf_int)\n",
    "print('Margin of error =', t_90 * ab_bs_rep_std)"
   ]
  },
  {
   "cell_type": "markdown",
   "metadata": {},
   "source": [
    "### Frequentist Method (One-sample *t* test):"
   ]
  },
  {
   "cell_type": "code",
   "execution_count": 50,
   "metadata": {},
   "outputs": [
    {
     "name": "stdout",
     "output_type": "stream",
     "text": [
      "Average Temperature = 98.24923076923078\n",
      "90% confidence interval = [97.04048864514294, 99.45797289331861]\n",
      "Margin of error = 1.2087421240878375\n"
     ]
    }
   ],
   "source": [
    "temps_mean = np.mean(temps)\n",
    "temps_std = np.std(temps)\n",
    "n = len(temps)\n",
    "margin_90 = t_90 * temps_std\n",
    "\n",
    "print(\"Average Temperature =\", temps_mean)\n",
    "print(\"90% confidence interval =\", [temps_mean - margin_90, temps_mean + margin_90])\n",
    "print(\"Margin of error =\", margin_90)"
   ]
  },
  {
   "cell_type": "markdown",
   "metadata": {},
   "source": [
    "From the bootstrap method, we see that an abnormal temperature would be any temperature outside of the interval $98.7^{\\circ}F$ to $98.5^{\\circ}F$. From the frequentist method, this range is any temperature outside of the interval $97.0^{\\circ}F$ and $99.5^{\\circ}F$. Using common sense, we can see that the frequentist method provides us with a much more accurate description of what an abnormal temperature is. To investigate further, let's plot these two distributions against each other:"
   ]
  },
  {
   "cell_type": "code",
   "execution_count": 51,
   "metadata": {
    "scrolled": true
   },
   "outputs": [
    {
     "data": {
      "image/png": "[encoded data removed]",
      "text/plain": [
       "<Figure size 1080x360 with 1 Axes>"
      ]
     },
     "metadata": {},
     "output_type": "display_data"
    }
   ],
   "source": [
    "_ = plt.figure(figsize = (15, 5))\n",
    "_ = sns.distplot(abnormal_bs_replicates, bins = 15, label = \"Bootstrap replicates data\", hist = True)\n",
    "x = np.linspace(95, 102, 100)\n",
    "y_sample = stats.norm.pdf(x, temps_mean, temps_std)\n",
    "_ = plt.plot(x, y_sample, label='Sample distribution')\n",
    "_ = plt.xlabel(\"Mean temperature (F)\")\n",
    "_ = plt.ylabel(\"Frequency of bootstrap means\")\n",
    "_ = plt.legend(loc = \"upper left\")\n",
    "plt.show()"
   ]
  },
  {
   "cell_type": "markdown",
   "metadata": {},
   "source": [
    "Immediately, we notice something about this plot: The bootstrap replicates' data has a much higher kertosis than our sample mean data. This implies that our sample data has a much wider range of values compared to the simluated values. This makes sense as we know that we're sampling across both female and male data samples in the original list (which we know cannot be considered independent variables). In the final question of this exercise, we will investigate the validity of this statement."
   ]
  },
  {
   "cell_type": "markdown",
   "metadata": {},
   "source": [
    "## Question 6. Is there a significant difference between males and females in normal temperature? What testing approach did you use and why? Write a story with your conclusion in the context of the original problem.\n",
    "For this problem, I choose to approach it using a one-value $t$-test that only tests the differences of the mean. This is because we still do *not* know the standard deviation of the total population's body temperature. However, the criteria that the male/female data sets have the same number of data points as well as them having a sample size of greater than 30 each still holds true, so we can perform a $t$-test. Similar to how we tested our previous data sets a known value of $98.6^{\\circ}F$, instead I will separate the male and female sets of data and then look at the differences between them using scipy.stats. That is our hypothoses will now be:\n",
    "* $H_{0} =$ The mean difference between the male and female body temperatures is 0. \n",
    "* $H_{a} =$ The mean difference between the male and female body temperatures is not 0."
   ]
  },
  {
   "cell_type": "code",
   "execution_count": 52,
   "metadata": {},
   "outputs": [
    {
     "name": "stdout",
     "output_type": "stream",
     "text": [
      "t-value = -2.2415178256185277\n",
      "p-value = 0.028467550912064203\n"
     ]
    }
   ],
   "source": [
    "temp_diffs = male_temps.reset_index(drop = True) - female_temps.reset_index(drop = True)\n",
    "t_diff_calc, p_diff_calc = stats.ttest_1samp(temp_diffs, 0)\n",
    "print(\"t-value =\", t_diff_calc)\n",
    "print(\"p-value =\", p_diff_calc)"
   ]
  },
  {
   "cell_type": "markdown",
   "metadata": {},
   "source": [
    "With a $p$-value of .0285, we note that this is statistically significant and thus we reject the null hypothesis. That is: **There is a significant difference between male and female normal body temperatures**. We've come to this conclusion earlier by looking at the previous independent sample $t$-tests, but now we can firmly state this fact. In conclusion, we've been able to calculate that:\n",
    "1. Based off of our sample data, the true mean of $98.6^{\\circ}F$ is not statistically likely.\n",
    "2. That there is a significant difference in body temperature that depends on the gender of the individual."
   ]
  }
 ],
 "metadata": {
  "kernelspec": {
   "display_name": "Python 3",
   "language": "python",
   "name": "python3"
  },
  "language_info": {
   "codemirror_mode": {
    "name": "ipython",
    "version": 3
   },
   "file_extension": ".py",
   "mimetype": "text/x-python",
   "name": "python",
   "nbconvert_exporter": "python",
   "pygments_lexer": "ipython3",
   "version": "3.6.5"
  }
 },
 "nbformat": 4,
 "nbformat_minor": 1
}
